{
 "cells": [
  {
   "cell_type": "markdown",
   "metadata": {},
   "source": [
    "# Scalar [Quantization](https://en.wikipedia.org/wiki/Quantization_(signal_processing)) of Digital Signals"
   ]
  },
  {
   "cell_type": "code",
   "execution_count": null,
   "metadata": {},
   "outputs": [],
   "source": [
    "%matplotlib inline\n",
    "\n",
    "import matplotlib\n",
    "import matplotlib.pyplot as plt\n",
    "import matplotlib.axes as ax\n",
    "import math\n",
    "import numpy as np"
   ]
  },
  {
   "cell_type": "code",
   "execution_count": null,
   "metadata": {},
   "outputs": [],
   "source": [
    "def plot_quantizer(x_plot, y_plot, title):\n",
    "    fig = plt.figure()\n",
    "    ax = fig.add_subplot(111)\n",
    "    ax.set_title(title)\n",
    "    ax.spines['left'].set_position('zero')\n",
    "    ax.spines['right'].set_color('none')\n",
    "    ax.spines['bottom'].set_position('zero')\n",
    "    ax.spines['top'].set_color('none')\n",
    "    ax.xaxis.set_label_coords(1,0.40)\n",
    "    ax.xaxis.set_label_text('Input')\n",
    "    ax.yaxis.set_label_coords(0.45,.9)\n",
    "    ax.yaxis.set_label_text('Output')\n",
    "\n",
    "    ticks = np.arange(-8, 9, 1)\n",
    "    ax.set_xticks(ticks)\n",
    "    ax.set_yticks(ticks)\n",
    "\n",
    "    ax.grid()\n",
    "    ax.plot(x_plot, y_plot)"
   ]
  },
  {
   "cell_type": "code",
   "execution_count": null,
   "metadata": {},
   "outputs": [],
   "source": [
    "def plot(x, y, xlabel='', ylabel='', title=''):\n",
    "    fig = plt.figure()\n",
    "    ax = fig.add_subplot(111)\n",
    "    ax.set_title(title)\n",
    "    ax.grid()\n",
    "    ax.xaxis.set_label_text(xlabel)\n",
    "    ax.yaxis.set_label_text(ylabel)\n",
    "    ax.plot(x, y)\n",
    "    plt.show(block=False)"
   ]
  },
  {
   "cell_type": "code",
   "execution_count": null,
   "metadata": {},
   "outputs": [],
   "source": [
    "def print_center(x, y, z, n):\n",
    "    offset = (len(x)-n)//2\n",
    "    for i in range(n):\n",
    "        input = int(x[i+offset])\n",
    "        output = int(y[i+offset])\n",
    "        recons = int(z[i+offset])\n",
    "        print(f\"{input:>6d} {output:>6d} {recons:>6d}\")"
   ]
  },
  {
   "cell_type": "markdown",
   "metadata": {},
   "source": [
    "## A.  Uniform Quantization"
   ]
  },
  {
   "cell_type": "markdown",
   "metadata": {},
   "source": [
    "### A.a. [Mid-tread (\"round\") Quantization](https://en.wikipedia.org/wiki/Quantization_(signal_processing)#Example)\n",
    "\n",
    "Quantization index\n",
    "\\begin{equation}\n",
    "  k=\\Big\\lfloor \\frac{x}{\\Delta} + \\frac{1}{2}\\Big\\rfloor.\n",
    "\\end{equation}\n",
    "\n",
    "Reconstructed value\n",
    "\\begin{equation}\n",
    "  y = \\Delta k.\n",
    "\\end{equation}\n",
    "\n",
    "The $k$ index can be also computed using the [round half toward zero](https://en.wikipedia.org/wiki/Rounding#Round_half_towards_zero) (or round to the nearest integer), for which NumPy provides the method [rint()](https://numpy.org/doc/stable/reference/generated/numpy.rint.html)."
   ]
  },
  {
   "cell_type": "code",
   "execution_count": null,
   "metadata": {},
   "outputs": [],
   "source": [
    "def midtread_quantizer(x, quantization_step):\n",
    "    k = np.rint(x / quantization_step)\n",
    "    # k = np.floor(x/quantization_step + 0.5)\n",
    "    return k\n",
    "\n",
    "def midtread_dequantizer(k, quantization_step):\n",
    "    y = quantization_step * k\n",
    "    return y"
   ]
  },
  {
   "cell_type": "markdown",
   "metadata": {},
   "source": [
    "### A.b. [Mid-rise (\"truncation\") Quantization](https://en.wikipedia.org/wiki/Quantization_(signal_processing)#Mid-riser_and_mid-tread_uniform_quantizers)\n",
    "\n",
    "Quantization index\n",
    "\\begin{equation}\n",
    "  k=\\Big\\lfloor \\frac{x}{\\Delta}\\Big\\rfloor.\n",
    "\\end{equation}\n",
    "\n",
    "Reconstructed value\n",
    "\\begin{equation}\n",
    "  y = \\Delta \\Big(k + \\frac{1}{2}\\Big).\n",
    "\\end{equation}"
   ]
  },
  {
   "cell_type": "code",
   "execution_count": null,
   "metadata": {},
   "outputs": [],
   "source": [
    "def midrise_quantizer(x, quantization_step):\n",
    "    k = np.floor(x / quantization_step)\n",
    "    return k\n",
    "\n",
    "def midrise_dequantizer(k, quantization_step):\n",
    "    y = quantization_step * (k + 0.5)\n",
    "    return y\n",
    "    #return y * quantization_step + quantization_step/2"
   ]
  },
  {
   "cell_type": "markdown",
   "metadata": {},
   "source": [
    "### A.c. [Dead-zone Quantization](https://en.wikipedia.org/wiki/Quantization_(signal_processing)#Dead-zone_quantizers)\n",
    "\n",
    "Quantization index\n",
    "\\begin{equation}\n",
    "  k = \\text{sgn}(x) \\max\\left(0, \\left\\lfloor \\frac{\\left| x \\right|-w/2}{\\Delta}+1\\right\\rfloor\\right).\n",
    "\\end{equation}\n",
    "\n",
    "Reconstructed value\n",
    "\\begin{equation}\n",
    "  y = \\text{sgn}(k) \\left(\\frac{w}{2}+\\Delta(|k|-1+r_k)\\right).\n",
    "\\end{equation}\n",
    "\n",
    "If $w=\\Delta$ and $r_k=1/2$, then the first equation becomes\n",
    "\\begin{equation}\n",
    "  k = \\text{sgn}(x) \\max\\left(0, \\left\\lfloor \\frac{\\left| x \\right|}{\\Delta} + \\frac{1}{2}\\right\\rfloor\\right),\n",
    "\\end{equation}\n",
    "which can be computed efficiently in NumPy by simply converting the floating point representation of $x/\\Delta$ to an integer using the [astype()](https://numpy.org/doc/stable/reference/generated/numpy.ndarray.astype.html) method. Using the same simplification, the second equation boils down to\n",
    "\\begin{equation}\n",
    "  y = \\Delta k.\n",
    "\\end{equation}\n"
   ]
  },
  {
   "cell_type": "code",
   "execution_count": null,
   "metadata": {},
   "outputs": [],
   "source": [
    "def deadzone_quantizer(x, quantization_step):\n",
    "    k = (x / quantization_step).astype(np.int)\n",
    "    return k\n",
    "\n",
    "def deadzone_dequantizer(k, quantization_step):\n",
    "    y = quantization_step * k\n",
    "    return y"
   ]
  },
  {
   "cell_type": "markdown",
   "metadata": {},
   "source": [
    "## B. [Non Uniform Quantization](https://nptel.ac.in/content/storage2/courses/117104069/chapter_5/5_5.html)"
   ]
  },
  {
   "cell_type": "markdown",
   "metadata": {},
   "source": [
    "### B.a. [Companded (COMpressed + exPANDED)](https://en.wikipedia.org/wiki/Companding) Quantization"
   ]
  },
  {
   "cell_type": "markdown",
   "metadata": {},
   "source": [
    "#### B.a.1. [$\\mu$-Law](https://en.wikipedia.org/wiki/%CE%9C-law_algorithm) Companded  Quantization\n",
    "\n",
    "Compressor\n",
    "\\begin{equation}\n",
    "C(x) = \\text{sgn}(x) \\frac{\\ln(1+ \\mu |x|)}{\\ln(1+\\mu)}, ~~~~-1 \\leq x \\leq 1,\n",
    "\\end{equation}\n",
    "shere $\\mu=255$ in most implementations.\n",
    "\n",
    "Expander:\n",
    "\\begin{equation}\n",
    "C^{-1}(y) = \\text{sgn}(y) (1 / \\mu ) ((1 + \\mu)^{|y|}- 1),~~~~-1 \\leq y \\leq 1.\n",
    "\\end{equation}"
   ]
  },
  {
   "cell_type": "code",
   "execution_count": null,
   "metadata": {},
   "outputs": [],
   "source": [
    "def muLaw_compress(x, mu):\n",
    "    return np.log(1+mu*np.abs(x))/np.log(1+mu)*np.sign(x)"
   ]
  },
  {
   "cell_type": "code",
   "execution_count": null,
   "metadata": {},
   "outputs": [],
   "source": [
    "def muLaw_expand(y, mu):\n",
    "    return (1/mu)*(((1+mu)**np.abs(y))-1)*np.sign(y)"
   ]
  },
  {
   "cell_type": "code",
   "execution_count": null,
   "metadata": {},
   "outputs": [],
   "source": [
    "x = np.linspace(-1, 1, 500)\n",
    "\n",
    "mu = 255\n",
    "y = muLaw_compress(x, mu)\n",
    "plot(x, y, \"Input\", \"Output\", \"$\\mu$-law Compressor ($\\mu={}$)\".format(mu))"
   ]
  },
  {
   "cell_type": "code",
   "execution_count": null,
   "metadata": {},
   "outputs": [],
   "source": [
    "x = np.linspace(-1, 1, 500)\n",
    "\n",
    "mu = 255\n",
    "y = muLaw_expand(x, mu)\n",
    "plot(x, y, \"Input\", \"Output\", \"$\\mu$-law Expander ($\\mu={}$)\".format(mu))"
   ]
  },
  {
   "cell_type": "code",
   "execution_count": null,
   "metadata": {},
   "outputs": [],
   "source": [
    "mu = 255\n",
    "x = np.linspace(-1, 1, 500)\n",
    "y = muLaw_compress(x, mu)\n",
    "x_recons = muLaw_expand(y, mu)\n",
    "plot(x, x_recons, \"Input\", \"Output\", \"Expansion(Compression(Input))\".format(mu))"
   ]
  },
  {
   "cell_type": "markdown",
   "metadata": {},
   "source": [
    "After these definitions, we define the quantization index\n",
    "\\begin{equation}\n",
    "  k = Q\\big(C(x)\\big),\n",
    "\\end{equation}\n",
    "where $C$ is the compression function and $Q$ is a dead-zone quantizer. \n",
    "\n",
    "Reconstruction value\n",
    "\\begin{equation}\n",
    "  y = C^{-1}\\big(Q^{-1}(k)\\big),\n",
    "\\end{equation}\n",
    "where $Q^{-1}$ stands for the dead-zone dequantizer and $C^{-1}$ for the expander function."
   ]
  },
  {
   "cell_type": "code",
   "execution_count": null,
   "metadata": {},
   "outputs": [],
   "source": [
    "def companded_quantizer(x, quantization_step):\n",
    "    '''Companded mu-law deadzone quantizer'''\n",
    "    mu = 255\n",
    "    x_compressed = (32768*(muLaw_compress(x/32768, mu)))\n",
    "    k = deadzone_quantizer(x_compressed, quantization_step)\n",
    "    return k\n",
    "\n",
    "def companded_dequantizer(k, quantization_step):\n",
    "    '''Companded mu-law deadzone dequantizer'''\n",
    "    mu = 255\n",
    "    z_compressed = deadzone_dequantizer(k, quantization_step)\n",
    "    y = np.round(32768*muLaw_expand(z_compressed/32768, mu)).astype(np.int16)\n",
    "    return y"
   ]
  },
  {
   "cell_type": "markdown",
   "metadata": {},
   "source": [
    "## Comparing Quantizers I/O"
   ]
  },
  {
   "cell_type": "code",
   "execution_count": null,
   "metadata": {},
   "outputs": [],
   "source": [
    "quantization_step = 1 # Delta\n",
    "x = np.linspace(-8, 8, 500) # Input samples\n",
    "k_T = midtread_quantizer(x, quantization_step) # Quantized samples\n",
    "y_T = midtread_dequantizer(k_T, quantization_step) # Reconstructed samples\n",
    "k_R = midrise_quantizer(x, quantization_step)\n",
    "y_R = midrise_dequantizer(k_R, quantization_step)\n",
    "k_D = deadzone_quantizer(x, quantization_step)\n",
    "y_D = deadzone_dequantizer(k_D, quantization_step)\n",
    "k_C = companded_quantizer(x, quantization_step)\n",
    "y_C = companded_dequantizer(k_C, quantization_step)\n",
    "plot(x, y_T, \"Input Sample\", \"Reconstructed Sample\", \"Mid-tread Quantizer ($\\Delta={}$)\".format(quantization_step))\n",
    "plot(x, y_R, \"Input Sample\", \"Reconstructed Sample\", \"Mid-rise Quantizer ($\\Delta={}$)\".format(quantization_step))\n",
    "plot(x, y_D, \"Input Sample\", \"Reconstructed Sample\", \"Dead-zone Quantizer ($\\Delta={}$)\".format(quantization_step))\n",
    "plot(x, y_C, \"Input Sample\", \"Reconstructed Sample\", \"Companded Dead-zone $\\mu$-Law Quantizer ($\\mu={}, \\Delta={}$)\".format(mu, quantization_step))"
   ]
  },
  {
   "cell_type": "code",
   "execution_count": null,
   "metadata": {},
   "outputs": [],
   "source": [
    "quantization_step = 2 # Delta\n",
    "x = np.linspace(-8, 8, 500) # Input samples\n",
    "k_T = midtread_quantizer(x, quantization_step) # Quantized samples\n",
    "y_T = midtread_dequantizer(k_T, quantization_step) # Reconstructed samples\n",
    "k_R = midrise_quantizer(x, quantization_step)\n",
    "y_R = midrise_dequantizer(k_R, quantization_step)\n",
    "k_D = deadzone_quantizer(x, quantization_step)\n",
    "y_D = deadzone_dequantizer(k_D, quantization_step)\n",
    "k_C = companded_quantizer(x, quantization_step)\n",
    "y_C = companded_dequantizer(k_C, quantization_step)\n",
    "plot(x, y_T, \"Input Sample\", \"Reconstructed Sample\", \"Mid-tread Quantizer ($\\Delta={}$)\".format(quantization_step))\n",
    "plot(x, y_R, \"Input Sample\", \"Reconstructed Sample\", \"Mid-rise Quantizer ($\\Delta={}$)\".format(quantization_step))\n",
    "plot(x, y_D, \"Input Sample\", \"Reconstructed Sample\", \"Dead-zone Quantizer ($\\Delta={}$)\".format(quantization_step))\n",
    "plot(x, y_C, \"Input Sample\", \"Reconstructed Sample\", \"Companded Dead-zone $\\mu$-Law Quantizer ($\\mu={}, \\Delta={}$)\".format(mu, quantization_step))"
   ]
  },
  {
   "cell_type": "code",
   "execution_count": null,
   "metadata": {},
   "outputs": [],
   "source": [
    "quantization_step = 3 # Delta\n",
    "x = np.linspace(-8, 8, 500) # Input samples\n",
    "k_T = midtread_quantizer(x, quantization_step) # Quantized samples\n",
    "y_T = midtread_dequantizer(k_T, quantization_step) # Reconstructed samples\n",
    "k_R = midrise_quantizer(x, quantization_step)\n",
    "y_R = midrise_dequantizer(k_R, quantization_step)\n",
    "k_D = deadzone_quantizer(x, quantization_step)\n",
    "y_D = deadzone_dequantizer(k_D, quantization_step)\n",
    "k_C = companded_quantizer(x, quantization_step)\n",
    "y_C = companded_dequantizer(k_C, quantization_step)\n",
    "plot(x, y_T, \"Input Sample\", \"Reconstructed Sample\", \"Mid-tread Quantizer ($\\Delta={}$)\".format(quantization_step))\n",
    "plot(x, y_R, \"Input Sample\", \"Reconstructed Sample\", \"Mid-rise Quantizer ($\\Delta={}$)\".format(quantization_step))\n",
    "plot(x, y_D, \"Input Sample\", \"Reconstructed Sample\", \"Deadzone Quantizer ($\\Delta={}$)\".format(quantization_step))\n",
    "plot(x, y_C, \"Input Sample\", \"Reconstructed Sample\", \"Companded Dead-zone $\\mu$-Law Quantizer ($\\mu={}, \\Delta={}$)\".format(mu, quantization_step))"
   ]
  },
  {
   "cell_type": "code",
   "execution_count": null,
   "metadata": {},
   "outputs": [],
   "source": [
    "quantization_step = 4 # Delta\n",
    "x = np.linspace(-8, 8, 500) # Input samples\n",
    "k_T = midtread_quantizer(x, quantization_step) # Quantized samples\n",
    "y_T = midtread_dequantizer(k_T, quantization_step) # Reconstructed samples\n",
    "k_R = midrise_quantizer(x, quantization_step)\n",
    "y_R = midrise_dequantizer(k_R, quantization_step)\n",
    "k_D = deadzone_quantizer(x, quantization_step)\n",
    "y_D = deadzone_dequantizer(k_D, quantization_step)\n",
    "k_C = companded_quantizer(x, quantization_step)\n",
    "y_C = companded_dequantizer(k_C, quantization_step)\n",
    "plot(x, y_T, \"Input Sample\", \"Reconstructed Sample\", \"Mid-tread Quantizer ($\\Delta={}$)\".format(quantization_step))\n",
    "plot(x, y_R, \"Input Sample\", \"Reconstructed Sample\", \"Mid-rise Quantizer ($\\Delta={}$)\".format(quantization_step))\n",
    "plot(x, y_D, \"Input Sample\", \"Reconstructed Sample\", \"Dead-zone Quantizer ($\\Delta={}$)\".format(quantization_step))\n",
    "plot(x, y_C, \"Input Sample\", \"Reconstructed Sample\", \"Companded Dead-zone $\\mu$-Law Quantizer ($\\mu={}, \\Delta={}$)\".format(mu, quantization_step))"
   ]
  },
  {
   "cell_type": "code",
   "execution_count": null,
   "metadata": {},
   "outputs": [],
   "source": [
    "quantization_step = 1024\n",
    "x = np.linspace(-32768, 32767, 65536)\n",
    "k_T = midtread_quantizer(x, quantization_step) # Quantized samples\n",
    "y_T = midtread_dequantizer(k_T, quantization_step) # Reconstructed samples\n",
    "k_R = midrise_quantizer(x, quantization_step)\n",
    "y_R = midrise_dequantizer(k_R, quantization_step)\n",
    "k_D = deadzone_quantizer(x, quantization_step)\n",
    "y_D = deadzone_dequantizer(k_D, quantization_step)\n",
    "k_C = companded_quantizer(x, quantization_step)\n",
    "y_C = companded_dequantizer(k_C, quantization_step)\n",
    "plot(x, y_T, \"Input Sample\", \"Reconstructed Sample\", \"Mid-tread Quantizer ($\\Delta={}$)\".format(quantization_step))\n",
    "plot(x, y_R, \"Input Sample\", \"Reconstructed Sample\", \"Mid-rise Quantizer ($\\Delta={}$)\".format(quantization_step))\n",
    "plot(x, y_D, \"Input Sample\", \"Reconstructed Sample\", \"Dead-zone Quantizer ($\\Delta={}$)\".format(quantization_step))\n",
    "plot(x, y_C, \"Input Sample\", \"Reconstructed Sample\", \"Companded Dead-zone $\\mu$-Law Quantizer ($\\mu={}, \\Delta={}$)\".format(mu, quantization_step))"
   ]
  },
  {
   "cell_type": "markdown",
   "metadata": {},
   "source": [
    "## Comparing quantization error"
   ]
  },
  {
   "cell_type": "code",
   "execution_count": null,
   "metadata": {},
   "outputs": [],
   "source": [
    "quantization_step = 1 # Delta\n",
    "x = np.linspace(-8, 8, 500) # Input samples\n",
    "k_T = midtread_quantizer(x, quantization_step) # Quantized samples\n",
    "y_T = midtread_dequantizer(k_T, quantization_step) # Reconstructed samples\n",
    "k_R = midrise_quantizer(x, quantization_step)\n",
    "y_R = midrise_dequantizer(k_R, quantization_step)\n",
    "k_D = deadzone_quantizer(x, quantization_step)\n",
    "y_D = deadzone_dequantizer(k_D, quantization_step)\n",
    "k_C = companded_quantizer(x, quantization_step)\n",
    "y_C = companded_dequantizer(k_C, quantization_step)\n",
    "error_T = x - y_T\n",
    "error_R = x - y_R\n",
    "error_D = x - y_D\n",
    "error_C = x - y_C\n",
    "plot(x, error_T, \"Input Sample\", \"Quantization Error\", \"Mid-tread Quantizer ($\\Delta={}$)\".format(quantization_step))\n",
    "plot(x, error_R, \"Input Sample\", \"Quantization Error\", \"Mid-rise Quantizer ($\\Delta={}$)\".format(quantization_step))\n",
    "plot(x, error_D, \"Input Sample\", \"Quantization Error\", \"Dead-zone Quantizer ($\\Delta={}$)\".format(quantization_step))\n",
    "plot(x, error_C, \"Input Sample\", \"Quantization Error\", \"Companded Dead-zone $\\mu$-Law Quantizer ($\\mu={}, \\Delta={}$)\".format(mu, quantization_step))"
   ]
  },
  {
   "cell_type": "code",
   "execution_count": null,
   "metadata": {},
   "outputs": [],
   "source": [
    "quantization_step = 2 # Delta\n",
    "x = np.linspace(-8, 8, 500) # Input samples\n",
    "k_T = midtread_quantizer(x, quantization_step) # Quantized samples\n",
    "y_T = midtread_dequantizer(k_T, quantization_step) # Reconstructed samples\n",
    "k_R = midrise_quantizer(x, quantization_step)\n",
    "y_R = midrise_dequantizer(k_R, quantization_step)\n",
    "k_D = deadzone_quantizer(x, quantization_step)\n",
    "y_D = deadzone_dequantizer(k_D, quantization_step)\n",
    "k_C = companded_quantizer(x, quantization_step)\n",
    "y_C = companded_dequantizer(k_C, quantization_step)\n",
    "error_T = x - y_T\n",
    "error_R = x - y_R\n",
    "error_D = x - y_D\n",
    "error_C = x - y_C\n",
    "plot(x, error_T, \"Input Sample\", \"Quantization Error\", \"Mid-tread Quantizer ($\\Delta={}$)\".format(quantization_step))\n",
    "plot(x, error_R, \"Input Sample\", \"Quantization Error\", \"Mid-rise Quantizer ($\\Delta={}$)\".format(quantization_step))\n",
    "plot(x, error_D, \"Input Sample\", \"Quantization Error\", \"Dead-zone Quantizer ($\\Delta={}$)\".format(quantization_step))\n",
    "plot(x, error_C, \"Input Sample\", \"Quantization Error\", \"Companded Dead-zone $\\mu$-Law Quantizer ($\\mu={}, \\Delta={}$)\".format(mu, quantization_step))"
   ]
  },
  {
   "cell_type": "code",
   "execution_count": null,
   "metadata": {},
   "outputs": [],
   "source": [
    "quantization_step = 1024 # Delta\n",
    "x = np.linspace(-32768, 32767, 500) # Input samples\n",
    "k_T = midtread_quantizer(x, quantization_step) # Quantized samples\n",
    "y_T = midtread_dequantizer(k_T, quantization_step) # Reconstructed samples\n",
    "k_R = midrise_quantizer(x, quantization_step)\n",
    "y_R = midrise_dequantizer(k_R, quantization_step)\n",
    "k_D = deadzone_quantizer(x, quantization_step)\n",
    "y_D = deadzone_dequantizer(k_D, quantization_step)\n",
    "k_C = companded_quantizer(x, quantization_step)\n",
    "y_C = companded_dequantizer(k_C, quantization_step)\n",
    "error_T = x - y_T\n",
    "error_R = x - y_R\n",
    "error_D = x - y_D\n",
    "error_C = x - y_C\n",
    "plot(x, error_T, \"Input Sample\", \"Quantization Error\", \"Mid-tread Quantizer ($\\Delta={}$)\".format(quantization_step))\n",
    "plot(x, error_R, \"Input Sample\", \"Quantization Error\", \"Mid-rise Quantizer ($\\Delta={}$)\".format(quantization_step))\n",
    "plot(x, error_D, \"Input Sample\", \"Quantization Error\", \"Dead-zone Quantizer ($\\Delta={}$)\".format(quantization_step))\n",
    "plot(x, error_C, \"Input Sample\", \"Quantization Error\", \"Companded Dead-zone $\\mu$-Law Quantizer ($\\mu={}, \\Delta={}$)\".format(mu, quantization_step))"
   ]
  },
  {
   "cell_type": "markdown",
   "metadata": {},
   "source": [
    "## Working with signed integers of 16 bits"
   ]
  },
  {
   "cell_type": "code",
   "execution_count": null,
   "metadata": {},
   "outputs": [],
   "source": [
    "quantization_step = 1\n",
    "x = np.linspace(-32768, 32767, 65536).astype(np.int16)\n",
    "k_T = midtread_quantizer(x, quantization_step)\n",
    "y_T = midtread_dequantizer(k_T, quantization_step)\n",
    "k_R = midrise_quantizer(x, quantization_step)\n",
    "y_R = midrise_dequantizer(k_R, quantization_step)\n",
    "k_D = deadzone_quantizer(x, quantization_step)\n",
    "y_D = deadzone_dequantizer(k_D, quantization_step)\n",
    "k_C = companded_quantizer(x, quantization_step)\n",
    "y_C = companded_dequantizer(k_C, quantization_step)\n",
    "\n",
    "n = 16\n",
    "print(f\"{'Mid-tread':>20s} {'Mid-rise':>20s} {'Dead-zone':>20s} {'Companded Dead-zone':>20s}\")\n",
    "print(f\"{'Input':>6s} {'Output':>6s} {'Recons':>6s} {'Input':>6s} {'Output':>6s} {'Recons':>6s} {'Input':>6s} {'Output':>6s} {'Recons':>6s} {'Input':>6s} {'Output':>6s} {'Recons':>6s}\")\n",
    "offset = (len(x)-n)//2\n",
    "for i in range(n):\n",
    "    input = int(x[i+offset])\n",
    "    output_T = int(k_T[i+offset])\n",
    "    recons_T = int(y_T[i+offset])\n",
    "    print(f\"{input:>6d} {output_T:>6d} {recons_T:>6d}\", end='')\n",
    "    output_R = int(k_R[i+offset])\n",
    "    recons_R = int(y_R[i+offset])\n",
    "    print(f\" {input:>6d} {output_R:>6d} {recons_R:>6d}\", end='')\n",
    "    output_D = int(k_D[i+offset])\n",
    "    recons_D = int(y_D[i+offset])\n",
    "    print(f\" {input:>6d} {output_D:>6d} {recons_D:>6d}\", end='')\n",
    "    output_C = int(k_C[i+offset])\n",
    "    recons_C = int(y_C[i+offset])\n",
    "    print(f\" {input:>6d} {output_C:>6d} {recons_C:>6d}\")\n"
   ]
  },
  {
   "cell_type": "code",
   "execution_count": null,
   "metadata": {},
   "outputs": [],
   "source": [
    "quantization_step = 2\n",
    "x = np.linspace(-32768, 32767, 65536).astype(np.int16)\n",
    "k_T = midtread_quantizer(x, quantization_step)\n",
    "y_T = midtread_dequantizer(k_T, quantization_step)\n",
    "k_R = midrise_quantizer(x, quantization_step)\n",
    "y_R = midrise_dequantizer(k_R, quantization_step)\n",
    "k_D = deadzone_quantizer(x, quantization_step)\n",
    "y_D = deadzone_dequantizer(k_D, quantization_step)\n",
    "k_C = companded_quantizer(x, quantization_step)\n",
    "y_C = companded_dequantizer(k_C, quantization_step)\n",
    "\n",
    "n = 16\n",
    "print(f\"{'Mid-tread':>20s} {'Mid-rise':>20s} {'Dead-zone':>20s} {'Companded Dead-zone':>20s}\")\n",
    "print(f\"{'Input':>6s} {'Output':>6s} {'Recons':>6s} {'Input':>6s} {'Output':>6s} {'Recons':>6s} {'Input':>6s} {'Output':>6s} {'Recons':>6s} {'Input':>6s} {'Output':>6s} {'Recons':>6s}\")\n",
    "offset = (len(x)-n)//2\n",
    "for i in range(n):\n",
    "    input = int(x[i+offset])\n",
    "    output_T = int(k_T[i+offset])\n",
    "    recons_T = int(y_T[i+offset])\n",
    "    print(f\"{input:>6d} {output_T:>6d} {recons_T:>6d}\", end='')\n",
    "    output_R = int(k_R[i+offset])\n",
    "    recons_R = int(y_R[i+offset])\n",
    "    print(f\" {input:>6d} {output_R:>6d} {recons_R:>6d}\", end='')\n",
    "    output_D = int(k_D[i+offset])\n",
    "    recons_D = int(y_D[i+offset])\n",
    "    print(f\" {input:>6d} {output_D:>6d} {recons_D:>6d}\", end='')\n",
    "    output_C = int(k_C[i+offset])\n",
    "    recons_C = int(y_C[i+offset])\n",
    "    print(f\" {input:>6d} {output_C:>6d} {recons_C:>6d}\")\n"
   ]
  },
  {
   "cell_type": "code",
   "execution_count": null,
   "metadata": {},
   "outputs": [],
   "source": [
    "quantization_step = 32\n",
    "x = np.linspace(-32768, 32767, 65536).astype(np.int16)\n",
    "k_T = midtread_quantizer(x, quantization_step)\n",
    "y_T = midtread_dequantizer(k_T, quantization_step)\n",
    "k_R = midrise_quantizer(x, quantization_step)\n",
    "y_R = midrise_dequantizer(k_R, quantization_step)\n",
    "k_D = deadzone_quantizer(x, quantization_step)\n",
    "y_D = deadzone_dequantizer(k_D, quantization_step)\n",
    "k_C = companded_quantizer(x, quantization_step)\n",
    "y_C = companded_dequantizer(k_C, quantization_step)\n",
    "\n",
    "n = 16\n",
    "print(f\"{'Mid-tread':>20s} {'Mid-rise':>20s} {'Dead-zone':>20s} {'Companded Dead-zone':>20s}\")\n",
    "print(f\"{'Input':>6s} {'Output':>6s} {'Recons':>6s} {'Input':>6s} {'Output':>6s} {'Recons':>6s} {'Input':>6s} {'Output':>6s} {'Recons':>6s} {'Input':>6s} {'Output':>6s} {'Recons':>6s}\")\n",
    "offset = (len(x)-n)//2\n",
    "for i in range(n):\n",
    "    input = int(x[i+offset])\n",
    "    output_T = int(k_T[i+offset])\n",
    "    recons_T = int(y_T[i+offset])\n",
    "    print(f\"{input:>6d} {output_T:>6d} {recons_T:>6d}\", end='')\n",
    "    output_R = int(k_R[i+offset])\n",
    "    recons_R = int(y_R[i+offset])\n",
    "    print(f\" {input:>6d} {output_R:>6d} {recons_R:>6d}\", end='')\n",
    "    output_D = int(k_D[i+offset])\n",
    "    recons_D = int(y_D[i+offset])\n",
    "    print(f\" {input:>6d} {output_D:>6d} {recons_D:>6d}\", end='')\n",
    "    output_C = int(k_C[i+offset])\n",
    "    recons_C = int(y_C[i+offset])\n",
    "    print(f\" {input:>6d} {output_C:>6d} {recons_C:>6d}\")\n"
   ]
  },
  {
   "cell_type": "markdown",
   "metadata": {},
   "source": [
    "# Which performs better for an audio signal?"
   ]
  },
  {
   "cell_type": "code",
   "execution_count": null,
   "metadata": {},
   "outputs": [],
   "source": [
    "def midtread_qdeq(x, quantization_step):\n",
    "    k = midtread_quantizer(x, quantization_step)\n",
    "    y = midtread_dequantizer(k, quantization_step)\n",
    "    return k, y"
   ]
  },
  {
   "cell_type": "code",
   "execution_count": null,
   "metadata": {},
   "outputs": [],
   "source": [
    "def midrise_qdeq(x, quantization_step):\n",
    "    k = midrise_quantizer(x, quantization_step)\n",
    "    y = midrise_dequantizer(k, quantization_step)\n",
    "    return k, y"
   ]
  },
  {
   "cell_type": "code",
   "execution_count": null,
   "metadata": {},
   "outputs": [],
   "source": [
    "def deadzone_qdeq(x, quantization_step):\n",
    "    k = deadzone_quantizer(x, quantization_step)\n",
    "    y = deadzone_dequantizer(k, quantization_step)\n",
    "    return k, y"
   ]
  },
  {
   "cell_type": "code",
   "execution_count": null,
   "metadata": {},
   "outputs": [],
   "source": [
    "def companded_qdeq(x, quantization_step):\n",
    "    k = companded_quantizer(x, quantization_step)\n",
    "    y = companded_dequantizer(k, quantization_step)\n",
    "    return k, y"
   ]
  },
  {
   "cell_type": "markdown",
   "metadata": {},
   "source": [
    "## A subjective comparative"
   ]
  },
  {
   "cell_type": "code",
   "execution_count": null,
   "metadata": {},
   "outputs": [],
   "source": [
    "import sounddevice as sd\n",
    "fs = 44100\n",
    "duration = 5.0  # seconds\n",
    "x = sd.rec(int(duration * fs), samplerate=fs, channels=1, dtype=np.int16)\n",
    "print(\"Speak!\")\n",
    "while sd.wait():\n",
    "    pass\n",
    "print(\"done\")"
   ]
  },
  {
   "cell_type": "code",
   "execution_count": null,
   "metadata": {},
   "outputs": [],
   "source": [
    "sd.play(x)\n",
    "plot(np.linspace(0, len(x)-1, len(x)), x, \"Time\", \"Amplitude\", \"Audio Signal\")"
   ]
  },
  {
   "cell_type": "code",
   "execution_count": null,
   "metadata": {},
   "outputs": [],
   "source": [
    "len(x)"
   ]
  },
  {
   "cell_type": "code",
   "execution_count": null,
   "metadata": {},
   "outputs": [],
   "source": [
    "quantization_step = 10000"
   ]
  },
  {
   "cell_type": "code",
   "execution_count": null,
   "metadata": {},
   "outputs": [],
   "source": [
    "k_T, y_T = midtread_qdeq(x, quantization_step)\n",
    "y_T = y_T.astype(np.int16)\n",
    "k_R, y_R = midrise_qdeq(x, quantization_step)\n",
    "y_R = y_R.astype(np.int16)\n",
    "k_D, y_D = deadzone_qdeq(x, quantization_step)\n",
    "y_D = y_D.astype(np.int16)\n",
    "k_C, y_C = companded_qdeq(x, quantization_step)\n",
    "y_C = y_C.astype(np.int16)"
   ]
  },
  {
   "cell_type": "code",
   "execution_count": null,
   "metadata": {},
   "outputs": [],
   "source": [
    "import time\n",
    "sd.play(y_T)\n",
    "plot(np.linspace(0, len(y_T)-1, len(y_T)), y_T, \"Time\", \"Amplitude\", \"Mid-tread ($\\Delta={}$)\".format(quantization_step))\n",
    "time.sleep(duration)\n",
    "\n",
    "sd.play(y_R)\n",
    "plot(np.linspace(0, len(y_R)-1, len(y_R)), y_R, \"Time\", \"Amplitude\", \"Mid-rise ($\\Delta={}$)\".format(quantization_step))\n",
    "time.sleep(duration)\n",
    "\n",
    "sd.play(y_D)\n",
    "plot(np.linspace(0, len(y_D)-1, len(y_D)), y_D, \"Time\", \"Amplitude\", \"Dead-zone ($\\Delta={}$)\".format(quantization_step))\n",
    "time.sleep(duration)\n",
    "\n",
    "sd.play(y_C)\n",
    "plot(np.linspace(0, len(y_C)-1, len(y_C)), y_C, \"Time\", \"Amplitude\", \"Companded Dead-zone ($\\Delta={}$)\".format(quantization_step))"
   ]
  },
  {
   "cell_type": "code",
   "execution_count": null,
   "metadata": {},
   "outputs": [],
   "source": [
    "plot(np.linspace(0, len(k_T)-1, len(k_T)), k_T, \"Time\", \"Representation Codes\", \"Mid-tread ($\\Delta={}$)\".format(quantization_step))\n",
    "plot(np.linspace(0, len(k_R)-1, len(k_R)), k_R, \"Time\", \"Representation Codes\", \"Mid-rise ($\\Delta={}$)\".format(quantization_step))\n",
    "plot(np.linspace(0, len(k_D)-1, len(k_D)), k_D, \"Time\", \"Representation Codes\", \"Dead-zone ($\\Delta={}$)\".format(quantization_step))\n",
    "plot(np.linspace(0, len(k_C)-1, len(k_C)), k_C, \"Time\", \"Representation Codes\", \"Companded Dead-zone ($\\Delta={}$)\".format(quantization_step))"
   ]
  },
  {
   "cell_type": "code",
   "execution_count": null,
   "metadata": {},
   "outputs": [],
   "source": [
    "error_T = x - y_T\n",
    "error_R = x - y_R\n",
    "error_D = x - y_D\n",
    "error_C = x - y_C\n",
    "\n",
    "sd.play(error_T)\n",
    "plot(np.linspace(0, len(y_T)-1, len(y_T)), error_T, \"Time\", \"Amplitude Error\", \"Mid-tread ($\\Delta={}$)\".format(quantization_step))\n",
    "time.sleep(duration)\n",
    "\n",
    "sd.play(error_R)\n",
    "plot(np.linspace(0, len(y_R)-1, len(y_R)), error_R, \"Time\", \"Amplitude Error\", \"Mid-rise ($\\Delta={}$)\".format(quantization_step))\n",
    "time.sleep(duration)\n",
    "\n",
    "sd.play(error_D)\n",
    "plot(np.linspace(0, len(y_D)-1, len(y_D)), error_D, \"Time\", \"Amplitude Error\", \"Dead-zone ($\\Delta={}$)\".format(quantization_step))\n",
    "time.sleep(duration)\n",
    "\n",
    "sd.play(error_C)\n",
    "plot(np.linspace(0, len(y_C)-1, len(y_C)), error_C, \"Time\", \"Amplitude Error\", \"Companded Dead-zone ($\\Delta={}$)\".format(quantization_step))"
   ]
  },
  {
   "cell_type": "markdown",
   "metadata": {},
   "source": [
    "## Objective comparative (Rate/Distortion comparative)"
   ]
  },
  {
   "cell_type": "markdown",
   "metadata": {},
   "source": [
    "### RMSE vs bit-rate"
   ]
  },
  {
   "cell_type": "code",
   "execution_count": null,
   "metadata": {},
   "outputs": [],
   "source": [
    "def average_energy(x):\n",
    "    return np.sum(x.astype(np.double)*x.astype(np.double))/len(x)"
   ]
  },
  {
   "cell_type": "code",
   "execution_count": null,
   "metadata": {},
   "outputs": [],
   "source": [
    "def RMSE(x, y):\n",
    "    error_signal = x - y\n",
    "    return math.sqrt(average_energy(error_signal))"
   ]
  },
  {
   "cell_type": "code",
   "execution_count": null,
   "metadata": {},
   "outputs": [],
   "source": [
    "# Based on https://stackoverflow.com/questions/15450192/fastest-way-to-compute-entropy-in-python\n",
    "def entropy_in_bits_per_symbol(sequence_of_symbols):\n",
    "    value, counts = np.unique(sequence_of_symbols, return_counts = True)\n",
    "    probs = counts / len(sequence_of_symbols)\n",
    "    n_classes = np.count_nonzero(probs)\n",
    "\n",
    "    if n_classes <= 1:\n",
    "        return 0\n",
    "\n",
    "    entropy = 0.\n",
    "    for i in probs:\n",
    "        entropy -= i * math.log(i, 2)\n",
    "\n",
    "    return entropy"
   ]
  },
  {
   "cell_type": "code",
   "execution_count": null,
   "metadata": {},
   "outputs": [],
   "source": [
    "def RD_curve(x, qdeq):\n",
    "    points = []\n",
    "    for q_step in range(1, 32768, 32):\n",
    "        k, y = qdeq(x, q_step)\n",
    "        rate = entropy_in_bits_per_symbol(k)\n",
    "        distortion = RMSE(x, y)\n",
    "        points.append((rate, distortion))\n",
    "    return points"
   ]
  },
  {
   "cell_type": "code",
   "execution_count": null,
   "metadata": {},
   "outputs": [],
   "source": [
    "midtread_RD_points = RD_curve(x, midtread_qdeq)\n",
    "midrise_RD_points = RD_curve(x, midrise_qdeq)\n",
    "deadzone_RD_points = RD_curve(x, deadzone_qdeq)\n",
    "companded_RD_points = RD_curve(x, companded_qdeq)"
   ]
  },
  {
   "cell_type": "code",
   "execution_count": null,
   "metadata": {
    "scrolled": false
   },
   "outputs": [],
   "source": [
    "plt.title(\"RD Tradeoff\")\n",
    "plt.xlabel(\"Bits per Sample\")\n",
    "plt.ylabel(\"RMSE\")\n",
    "#plt.xscale(\"log\")\n",
    "#plt.yscale(\"log\")\n",
    "plt.scatter(*zip(*midtread_RD_points), s=2, c='b', marker=\"o\", label='Mid-tread')\n",
    "plt.scatter(*zip(*midrise_RD_points), s=2, c='c', marker=\"o\", label='Mid-rise')\n",
    "plt.scatter(*zip(*deadzone_RD_points), s=2, c='r', marker=\"o\", label='Dead-zone')\n",
    "plt.scatter(*zip(*companded_RD_points), s=2, c='g', marker=\"o\", label='Companded Dead-zone')\n",
    "plt.legend(loc='upper right')\n",
    "plt.show()"
   ]
  },
  {
   "cell_type": "code",
   "execution_count": null,
   "metadata": {},
   "outputs": [],
   "source": [
    "def QstepD_curve(x, qdeq):\n",
    "    QstepD_points = []\n",
    "    for q_step in range(1, 32768, 32):\n",
    "        k, y = qdeq(x, q_step)\n",
    "        distortion = RMSE(x, y)\n",
    "        QstepD_points.append((q_step, distortion))\n",
    "    return QstepD_points"
   ]
  },
  {
   "cell_type": "code",
   "execution_count": null,
   "metadata": {},
   "outputs": [],
   "source": [
    "midtread_QstepD_points = QstepD_curve(x, midtread_qdeq)\n",
    "midrise_QstepD_points = QstepD_curve(x, midrise_qdeq)\n",
    "deadzone_QstepD_points = QstepD_curve(x, deadzone_qdeq)\n",
    "companded_QstepD_points = QstepD_curve(x, companded_qdeq)"
   ]
  },
  {
   "cell_type": "code",
   "execution_count": null,
   "metadata": {
    "scrolled": false
   },
   "outputs": [],
   "source": [
    "plt.title(\"$\\Delta$/D comparative\")\n",
    "plt.xlabel(\"$\\Delta$\")\n",
    "plt.ylabel(\"RMSE\")\n",
    "#plt.xscale(\"log\")\n",
    "#plt.yscale(\"log\")\n",
    "plt.scatter(*zip(*midtread_QstepD_points), s=2, c='b', marker=\"o\", label='Mid-tread')\n",
    "plt.scatter(*zip(*midrise_QstepD_points), s=2, c='c', marker=\"o\", label='Mid-rise')\n",
    "plt.scatter(*zip(*deadzone_QstepD_points), s=2, c='r', marker=\"o\", label='Dead-zone')\n",
    "plt.scatter(*zip(*companded_QstepD_points), s=2, c='g', marker=\"o\", label='Companded Dead-zone')\n",
    "plt.legend(loc='upper right')\n",
    "plt.show()"
   ]
  },
  {
   "cell_type": "markdown",
   "metadata": {},
   "source": [
    "In general, we can say that the distortion grows logarithmically with the quantization step."
   ]
  },
  {
   "cell_type": "code",
   "execution_count": null,
   "metadata": {},
   "outputs": [],
   "source": [
    "def QstepR_curve(x, qdeq):\n",
    "    points = []\n",
    "    for q_step in range(1, 32768, 32):\n",
    "        k, y = qdeq(x, q_step)\n",
    "        rate = entropy_in_bits_per_symbol(k)\n",
    "        points.append((q_step, rate))\n",
    "    return points"
   ]
  },
  {
   "cell_type": "code",
   "execution_count": null,
   "metadata": {},
   "outputs": [],
   "source": [
    "midtread_QstepR_points = QstepR_curve(x, midtread_qdeq)\n",
    "midrise_QstepR_points = QstepR_curve(x, midrise_qdeq)\n",
    "deadzone_QstepR_points = QstepR_curve(x, deadzone_qdeq)\n",
    "companded_QstepR_points = QstepR_curve(x, companded_qdeq)"
   ]
  },
  {
   "cell_type": "code",
   "execution_count": null,
   "metadata": {
    "scrolled": false
   },
   "outputs": [],
   "source": [
    "plt.title(\"$\\Delta$/R comparative\")\n",
    "plt.xlabel(\"$\\Delta$\")\n",
    "plt.ylabel(\"Bits per sample\")\n",
    "#plt.xscale(\"log\")\n",
    "#plt.yscale(\"log\")\n",
    "plt.scatter(*zip(*midtread_QstepR_points), s=2, c='b', marker=\"o\", label='Mid-tread')\n",
    "plt.scatter(*zip(*midrise_QstepR_points), s=2, c='c', marker=\"o\", label='Mid-rise')\n",
    "plt.scatter(*zip(*deadzone_QstepR_points), s=2, c='r', marker=\"o\", label='Dead-zone')\n",
    "plt.scatter(*zip(*companded_QstepR_points), s=2, c='g', marker=\"o\", label='Companded Dead-zone')\n",
    "plt.legend(loc='upper right')\n",
    "plt.show()"
   ]
  },
  {
   "cell_type": "markdown",
   "metadata": {},
   "source": [
    "In general, we can say that the bit-rate decreases logarithmically with the quantization step."
   ]
  },
  {
   "cell_type": "markdown",
   "metadata": {},
   "source": [
    "### Using a logaritmic version of RMSE\n",
    "\n",
    "The HAS is more sensitive to the variations of quiet sounds than to the variations of the loud sounds. For this reason, let's see what happens when we give more importance to the quiet sounds that to the loud sounds, using a compression of the dynamic range of the sounds."
   ]
  },
  {
   "cell_type": "code",
   "execution_count": null,
   "metadata": {},
   "outputs": [],
   "source": [
    "def log_average_energy(x):\n",
    "    '''In fact, average logaritmic energy.'''\n",
    "    return np.sum(np.log(np.abs(x.astype(np.double))+1)*np.log(np.abs(x.astype(np.double))+1))/len(x)"
   ]
  },
  {
   "cell_type": "code",
   "execution_count": null,
   "metadata": {},
   "outputs": [],
   "source": [
    "def log_RMSE(x, y):\n",
    "    error_signal = x - y\n",
    "    return math.sqrt(log_average_energy(error_signal))"
   ]
  },
  {
   "cell_type": "code",
   "execution_count": null,
   "metadata": {},
   "outputs": [],
   "source": [
    "def log_RD_curve(x, quantization):\n",
    "    RD_points = []\n",
    "    for q_step in range(1, 32768, 32):\n",
    "        k, y = quantization(x, q_step)\n",
    "        rate = entropy_in_bits_per_symbol(k)\n",
    "        distortion = log_RMSE(x, y)\n",
    "        RD_points.append((rate, distortion))\n",
    "    return RD_points"
   ]
  },
  {
   "cell_type": "code",
   "execution_count": null,
   "metadata": {},
   "outputs": [],
   "source": [
    "log_midtread_RD_points = log_RD_curve(x, midtread_qdeq)\n",
    "log_midrise_RD_points = log_RD_curve(x, midrise_qdeq)\n",
    "log_deadzone_RD_points = log_RD_curve(x, deadzone_qdeq)\n",
    "log_companded_RD_points = log_RD_curve(x, companded_qdeq)"
   ]
  },
  {
   "cell_type": "code",
   "execution_count": null,
   "metadata": {},
   "outputs": [],
   "source": [
    "plt.title(\"R/D comparative\")\n",
    "plt.xlabel(\"Bits per sample\")\n",
    "plt.ylabel(\"(log) RMSE\")\n",
    "#plt.yscale(\"linear\")\n",
    "#plt.xscale(\"log\")\n",
    "plt.xlim(1, 16)\n",
    "plt.scatter(*zip(*log_midtread_RD_points), s=2, c='b', marker=\"o\", label='Mid-tread')\n",
    "plt.scatter(*zip(*log_midrise_RD_points), s=2, c='c', marker=\"o\", label='Mid-rise')\n",
    "plt.scatter(*zip(*log_deadzone_RD_points), s=2, c='r', marker=\"o\", label='Dead-zone')\n",
    "plt.scatter(*zip(*log_companded_RD_points), s=2, c='g', marker=\"o\", label='Companded Dead-zone')\n",
    "plt.legend(loc='upper right')\n",
    "plt.show()"
   ]
  },
  {
   "cell_type": "code",
   "execution_count": null,
   "metadata": {},
   "outputs": [],
   "source": [
    "# Could be useful ...\n",
    "\n",
    "def SNR(x, y):\n",
    "    signal_energy = compute_average_energy(x)\n",
    "    error_energy = compute_average_energy(x-y)\n",
    "    print(\"signal energy =\", signal_energy)\n",
    "    print(\"error energy =\", error_energy)\n",
    "    return 10*math.log(signal_energy/error_energy)"
   ]
  },
  {
   "cell_type": "code",
   "execution_count": null,
   "metadata": {},
   "outputs": [],
   "source": []
  }
 ],
 "metadata": {
  "kernelspec": {
   "display_name": "Python 3",
   "language": "python",
   "name": "python3"
  },
  "language_info": {
   "codemirror_mode": {
    "name": "ipython",
    "version": 3
   },
   "file_extension": ".py",
   "mimetype": "text/x-python",
   "name": "python",
   "nbconvert_exporter": "python",
   "pygments_lexer": "ipython3",
   "version": "3.8.5"
  }
 },
 "nbformat": 4,
 "nbformat_minor": 2
}
